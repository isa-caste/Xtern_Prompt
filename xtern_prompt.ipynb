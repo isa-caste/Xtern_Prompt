{
 "cells": [
  {
   "cell_type": "code",
   "execution_count": 1,
   "metadata": {},
   "outputs": [],
   "source": [
    "# import necessary libraries\n",
    "import pandas as pd\n",
    "import numpy as np\n",
    "import matplotlib.pyplot as plt\n",
    "import seaborn as sns"
   ]
  },
  {
   "cell_type": "code",
   "execution_count": 9,
   "metadata": {},
   "outputs": [
    {
     "data": {
      "text/html": [
       "<div>\n",
       "<style scoped>\n",
       "    .dataframe tbody tr th:only-of-type {\n",
       "        vertical-align: middle;\n",
       "    }\n",
       "\n",
       "    .dataframe tbody tr th {\n",
       "        vertical-align: top;\n",
       "    }\n",
       "\n",
       "    .dataframe thead th {\n",
       "        text-align: right;\n",
       "    }\n",
       "</style>\n",
       "<table border=\"1\" class=\"dataframe\">\n",
       "  <thead>\n",
       "    <tr style=\"text-align: right;\">\n",
       "      <th></th>\n",
       "      <th>User ID</th>\n",
       "      <th>Fan Challenges Completed</th>\n",
       "      <th>Predictive Accuracy (%)</th>\n",
       "      <th>Virtual Merchandise Purchases</th>\n",
       "      <th>Sponsorship Interactions (Ad Clicks)</th>\n",
       "      <th>Time on Live 360 (mins)</th>\n",
       "      <th>Real-Time Chat Activity (Messages Sent)</th>\n",
       "    </tr>\n",
       "  </thead>\n",
       "  <tbody>\n",
       "    <tr>\n",
       "      <th>0</th>\n",
       "      <td>U001</td>\n",
       "      <td>5</td>\n",
       "      <td>80</td>\n",
       "      <td>3</td>\n",
       "      <td>10</td>\n",
       "      <td>120</td>\n",
       "      <td>20</td>\n",
       "    </tr>\n",
       "    <tr>\n",
       "      <th>1</th>\n",
       "      <td>U002</td>\n",
       "      <td>8</td>\n",
       "      <td>60</td>\n",
       "      <td>1</td>\n",
       "      <td>8</td>\n",
       "      <td>100</td>\n",
       "      <td>35</td>\n",
       "    </tr>\n",
       "    <tr>\n",
       "      <th>2</th>\n",
       "      <td>U003</td>\n",
       "      <td>3</td>\n",
       "      <td>90</td>\n",
       "      <td>0</td>\n",
       "      <td>6</td>\n",
       "      <td>90</td>\n",
       "      <td>5</td>\n",
       "    </tr>\n",
       "    <tr>\n",
       "      <th>3</th>\n",
       "      <td>U004</td>\n",
       "      <td>7</td>\n",
       "      <td>70</td>\n",
       "      <td>2</td>\n",
       "      <td>15</td>\n",
       "      <td>140</td>\n",
       "      <td>40</td>\n",
       "    </tr>\n",
       "    <tr>\n",
       "      <th>4</th>\n",
       "      <td>U005</td>\n",
       "      <td>2</td>\n",
       "      <td>50</td>\n",
       "      <td>5</td>\n",
       "      <td>3</td>\n",
       "      <td>60</td>\n",
       "      <td>8</td>\n",
       "    </tr>\n",
       "  </tbody>\n",
       "</table>\n",
       "</div>"
      ],
      "text/plain": [
       "  User ID  Fan Challenges Completed  Predictive Accuracy (%)  \\\n",
       "0    U001                         5                       80   \n",
       "1    U002                         8                       60   \n",
       "2    U003                         3                       90   \n",
       "3    U004                         7                       70   \n",
       "4    U005                         2                       50   \n",
       "\n",
       "   Virtual Merchandise Purchases  Sponsorship Interactions (Ad Clicks)  \\\n",
       "0                              3                                    10   \n",
       "1                              1                                     8   \n",
       "2                              0                                     6   \n",
       "3                              2                                    15   \n",
       "4                              5                                     3   \n",
       "\n",
       "   Time on Live 360 (mins)  Real-Time Chat Activity (Messages Sent)  \n",
       "0                      120                                       20  \n",
       "1                      100                                       35  \n",
       "2                       90                                        5  \n",
       "3                      140                                       40  \n",
       "4                       60                                        8  "
      ]
     },
     "execution_count": 9,
     "metadata": {},
     "output_type": "execute_result"
    }
   ],
   "source": [
    "# import file as pandas dataframe\n",
    "data = pd.read_csv(\"C:/Users/icwin/OneDrive - Indiana University/xtern_files/2025-VeloCityX-Expanded-Fan-Engagement-Data.csv\")\n",
    "data.head()"
   ]
  },
  {
   "cell_type": "code",
   "execution_count": 7,
   "metadata": {},
   "outputs": [],
   "source": [
    "# Clean and organize the data into a usable format\n",
    "\n",
    "# drop columns with null values, drop duplicate rows, and reset the index\n",
    "data = data.dropna()\n",
    "data = data.drop_duplicates()\n",
    "data = data.reset_index(drop=True)"
   ]
  },
  {
   "cell_type": "code",
   "execution_count": 23,
   "metadata": {},
   "outputs": [
    {
     "name": "stdout",
     "output_type": "stream",
     "text": [
      "   User ID  purchase_likelihood\n",
      "0     U001                  1.0\n",
      "71    U072                  1.0\n",
      "69    U070                  1.0\n",
      "68    U069                  1.0\n",
      "67    U068                  1.0\n",
      "Correlation between fan challenges completed and engagement score: 0.06999261140173219\n",
      "Correlation between engagement score and purchase likelihood: 0.11424019456854985\n",
      "Correlation between time on live and sponsorship interactions: -0.07392853539011979\n",
      "Correlation between time on live and prediction accuracy: 0.1254271637062403\n"
     ]
    }
   ],
   "source": [
    "# Investigate trends\n",
    "\n",
    "# create column to see if user has purchased merchandise\n",
    "data['purchased_merchandise'] = np.where(data['Virtual Merchandise Purchases'] > 0, 1, 0)\n",
    "# create a column for an engagement score, add correlating factors and divide by the number of factors\n",
    "data['Engagement_Score'] = (data['Fan Challenges Completed'] + data['Virtual Merchandise Purchases'] + data['Sponsorship Interactions (Ad Clicks)'] + data['Time on Live 360 (mins)'] + data['Real-Time Chat Activity (Messages Sent)']) / 5\n",
    "\n",
    "# What is the purchase likelihood for each user?\n",
    "# group by user ID and calculate the mean of the purchase likelihood\n",
    "purchase_likelihood = data.groupby('User ID')['purchased_merchandise'].mean().reset_index()\n",
    "# rename columns\n",
    "purchase_likelihood.columns = ['User ID', 'purchase_likelihood']\n",
    "print(purchase_likelihood.sort_values(by='purchase_likelihood', ascending=False).head())\n",
    "\n",
    "# Do users who complete more fan challenges have a higher engagement score?\n",
    "# Calculate the correlation between the number of fan challenges completed and the engagement score\n",
    "correlation = data['Fan Challenges Completed'].corr(data['Engagement_Score'])\n",
    "print(f'Correlation between fan challenges completed and engagement score: {correlation}')\n",
    "# comes out very low, very little correlation\n",
    "\n",
    "# Do users who have a higher engagement score have a higher likelihood of purchasing virtual merchandise?\n",
    "# Calculate the correlation between engagement score and purchase likelihood\n",
    "correlation_purchase = data['Engagement_Score'].corr(data['purchased_merchandise'])\n",
    "print(f'Correlation between engagement score and purchase likelihood: {correlation_purchase}')\n",
    "# also comes pretty low, not much correlation\n",
    "\n",
    "# Do users who spend more time on live have more sponsorphip interaction clicks?\n",
    "# Calculate the correlation between time on live and sponsorship interactions\n",
    "correlation_spons_inter = data['Time on Live 360 (mins)'].corr(data['Sponsorship Interactions (Ad Clicks)'])\n",
    "print(f'Correlation between time on live and sponsorship interactions: {correlation_spons_inter}')\n",
    "# very low, extremely little correlation\n",
    "\n",
    "# do users who spend more time on live haver higher prediction accuracies?\n",
    "# Calculate the correlation between time on live and prediction accuracy\n",
    "correlation_predict_acc = data['Time on Live 360 (mins)'].corr(data['Predictive Accuracy (%)'])\n",
    "print(f'Correlation between time on live and prediction accuracy: {correlation_predict_acc}')\n",
    "# still pretty low but the highest correlation so far\n"
   ]
  },
  {
   "cell_type": "code",
   "execution_count": 26,
   "metadata": {},
   "outputs": [
    {
     "name": "stdout",
     "output_type": "stream",
     "text": [
      "Correlation between activities during race events and merchandise purchases and sponsorship interaction:                                Virtual Merchandise Purchases  \\\n",
      "Virtual Merchandise Purchases                       1.000000   \n",
      "Total Interactions                                  0.369158   \n",
      "\n",
      "                               Total Interactions  \n",
      "Virtual Merchandise Purchases            0.369158  \n",
      "Total Interactions                       1.000000  \n"
     ]
    }
   ],
   "source": [
    "# How do user activities during race events correlate with their merchandise purchases and sponsorship interaction? \n",
    "# Create a combined variable for Virtual Merchandise Purchases Sponsorship Interactions (Ad Clicks)\n",
    "data['Total Interactions'] = data['Virtual Merchandise Purchases'] + data['Sponsorship Interactions (Ad Clicks)']\n",
    "# Calculate the correlation between the combined variable and their engagement score\n",
    "correlation = data[['Virtual Merchandise Purchases', 'Total Interactions']].corr()\n",
    "print(f'Correlation between activities during race events and merchandise purchases and sponsorship interaction: {correlation}')"
   ]
  }
 ],
 "metadata": {
  "kernelspec": {
   "display_name": "base",
   "language": "python",
   "name": "python3"
  },
  "language_info": {
   "codemirror_mode": {
    "name": "ipython",
    "version": 3
   },
   "file_extension": ".py",
   "mimetype": "text/x-python",
   "name": "python",
   "nbconvert_exporter": "python",
   "pygments_lexer": "ipython3",
   "version": "3.10.13"
  }
 },
 "nbformat": 4,
 "nbformat_minor": 2
}
